{
 "cells": [
  {
   "cell_type": "markdown",
   "metadata": {},
   "source": [
    "# Top Markets to Advertise\n",
    "\n",
    "We want to figure out what specific market would be most advantageous to advertise our new Web/Mobile development courses. Ideally we would like to advertise in the top 3 markets so that we have a diverse marketing strategy. Therefore we will attempt to answer the following questions:\n",
    "\n",
    "- How many programmers are actually interested in Web/Mobile development?\n",
    "- In what country do these programmers live?\n",
    "- Are these programmers willing to pay for a programming course? How much?\n",
    "- What are the top 3 markets to advertise in? By how much?"
   ]
  },
  {
   "cell_type": "markdown",
   "metadata": {},
   "source": [
    "# Introduction \n",
    "\n",
    "We are using an already made dataset from a survey conducted by freeCodeCamp, we are doing this because we know many coders start at the free coding website (FreeCodeCamp) hence they already have the market we are looking to explore. This dataset contains information about the coders like where they are located, how long they have been coding for, what their interests are all useful information for our analysis. The dataset can be found [here](https://github.com/freeCodeCamp/2017-new-coder-survey), we will start by reading and exploring the data."
   ]
  },
  {
   "cell_type": "code",
   "execution_count": 1,
   "metadata": {},
   "outputs": [],
   "source": [
    "import pandas as pd\n",
    "import seaborn as sns\n",
    "import matplotlib.pyplot as plt\n",
    "%matplotlib inline\n",
    "\n",
    "new_coders_data = pd.read_csv(\"2017-fCC-New-Coders-Survey-Data.csv\", low_memory=False)"
   ]
  },
  {
   "cell_type": "code",
   "execution_count": 2,
   "metadata": {},
   "outputs": [
    {
     "data": {
      "text/html": [
       "<div>\n",
       "<style scoped>\n",
       "    .dataframe tbody tr th:only-of-type {\n",
       "        vertical-align: middle;\n",
       "    }\n",
       "\n",
       "    .dataframe tbody tr th {\n",
       "        vertical-align: top;\n",
       "    }\n",
       "\n",
       "    .dataframe thead th {\n",
       "        text-align: right;\n",
       "    }\n",
       "</style>\n",
       "<table border=\"1\" class=\"dataframe\">\n",
       "  <thead>\n",
       "    <tr style=\"text-align: right;\">\n",
       "      <th></th>\n",
       "      <th>Age</th>\n",
       "      <th>AttendedBootcamp</th>\n",
       "      <th>BootcampFinish</th>\n",
       "      <th>BootcampLoanYesNo</th>\n",
       "      <th>BootcampName</th>\n",
       "      <th>BootcampRecommend</th>\n",
       "      <th>ChildrenNumber</th>\n",
       "      <th>CityPopulation</th>\n",
       "      <th>CodeEventConferences</th>\n",
       "      <th>CodeEventDjangoGirls</th>\n",
       "      <th>...</th>\n",
       "      <th>YouTubeFCC</th>\n",
       "      <th>YouTubeFunFunFunction</th>\n",
       "      <th>YouTubeGoogleDev</th>\n",
       "      <th>YouTubeLearnCode</th>\n",
       "      <th>YouTubeLevelUpTuts</th>\n",
       "      <th>YouTubeMIT</th>\n",
       "      <th>YouTubeMozillaHacks</th>\n",
       "      <th>YouTubeOther</th>\n",
       "      <th>YouTubeSimplilearn</th>\n",
       "      <th>YouTubeTheNewBoston</th>\n",
       "    </tr>\n",
       "  </thead>\n",
       "  <tbody>\n",
       "    <tr>\n",
       "      <th>0</th>\n",
       "      <td>27.0</td>\n",
       "      <td>0.0</td>\n",
       "      <td>NaN</td>\n",
       "      <td>NaN</td>\n",
       "      <td>NaN</td>\n",
       "      <td>NaN</td>\n",
       "      <td>NaN</td>\n",
       "      <td>more than 1 million</td>\n",
       "      <td>NaN</td>\n",
       "      <td>NaN</td>\n",
       "      <td>...</td>\n",
       "      <td>NaN</td>\n",
       "      <td>NaN</td>\n",
       "      <td>NaN</td>\n",
       "      <td>NaN</td>\n",
       "      <td>NaN</td>\n",
       "      <td>NaN</td>\n",
       "      <td>NaN</td>\n",
       "      <td>NaN</td>\n",
       "      <td>NaN</td>\n",
       "      <td>NaN</td>\n",
       "    </tr>\n",
       "    <tr>\n",
       "      <th>1</th>\n",
       "      <td>34.0</td>\n",
       "      <td>0.0</td>\n",
       "      <td>NaN</td>\n",
       "      <td>NaN</td>\n",
       "      <td>NaN</td>\n",
       "      <td>NaN</td>\n",
       "      <td>NaN</td>\n",
       "      <td>less than 100,000</td>\n",
       "      <td>NaN</td>\n",
       "      <td>NaN</td>\n",
       "      <td>...</td>\n",
       "      <td>1.0</td>\n",
       "      <td>NaN</td>\n",
       "      <td>NaN</td>\n",
       "      <td>NaN</td>\n",
       "      <td>NaN</td>\n",
       "      <td>NaN</td>\n",
       "      <td>NaN</td>\n",
       "      <td>NaN</td>\n",
       "      <td>NaN</td>\n",
       "      <td>NaN</td>\n",
       "    </tr>\n",
       "    <tr>\n",
       "      <th>2</th>\n",
       "      <td>21.0</td>\n",
       "      <td>0.0</td>\n",
       "      <td>NaN</td>\n",
       "      <td>NaN</td>\n",
       "      <td>NaN</td>\n",
       "      <td>NaN</td>\n",
       "      <td>NaN</td>\n",
       "      <td>more than 1 million</td>\n",
       "      <td>NaN</td>\n",
       "      <td>NaN</td>\n",
       "      <td>...</td>\n",
       "      <td>NaN</td>\n",
       "      <td>NaN</td>\n",
       "      <td>NaN</td>\n",
       "      <td>1.0</td>\n",
       "      <td>1.0</td>\n",
       "      <td>NaN</td>\n",
       "      <td>NaN</td>\n",
       "      <td>NaN</td>\n",
       "      <td>NaN</td>\n",
       "      <td>NaN</td>\n",
       "    </tr>\n",
       "    <tr>\n",
       "      <th>3</th>\n",
       "      <td>26.0</td>\n",
       "      <td>0.0</td>\n",
       "      <td>NaN</td>\n",
       "      <td>NaN</td>\n",
       "      <td>NaN</td>\n",
       "      <td>NaN</td>\n",
       "      <td>NaN</td>\n",
       "      <td>between 100,000 and 1 million</td>\n",
       "      <td>NaN</td>\n",
       "      <td>NaN</td>\n",
       "      <td>...</td>\n",
       "      <td>1.0</td>\n",
       "      <td>1.0</td>\n",
       "      <td>NaN</td>\n",
       "      <td>NaN</td>\n",
       "      <td>1.0</td>\n",
       "      <td>NaN</td>\n",
       "      <td>NaN</td>\n",
       "      <td>NaN</td>\n",
       "      <td>NaN</td>\n",
       "      <td>NaN</td>\n",
       "    </tr>\n",
       "    <tr>\n",
       "      <th>4</th>\n",
       "      <td>20.0</td>\n",
       "      <td>0.0</td>\n",
       "      <td>NaN</td>\n",
       "      <td>NaN</td>\n",
       "      <td>NaN</td>\n",
       "      <td>NaN</td>\n",
       "      <td>NaN</td>\n",
       "      <td>between 100,000 and 1 million</td>\n",
       "      <td>NaN</td>\n",
       "      <td>NaN</td>\n",
       "      <td>...</td>\n",
       "      <td>NaN</td>\n",
       "      <td>NaN</td>\n",
       "      <td>NaN</td>\n",
       "      <td>NaN</td>\n",
       "      <td>NaN</td>\n",
       "      <td>NaN</td>\n",
       "      <td>NaN</td>\n",
       "      <td>NaN</td>\n",
       "      <td>NaN</td>\n",
       "      <td>NaN</td>\n",
       "    </tr>\n",
       "  </tbody>\n",
       "</table>\n",
       "<p>5 rows × 136 columns</p>\n",
       "</div>"
      ],
      "text/plain": [
       "    Age  AttendedBootcamp  BootcampFinish  BootcampLoanYesNo BootcampName  \\\n",
       "0  27.0               0.0             NaN                NaN          NaN   \n",
       "1  34.0               0.0             NaN                NaN          NaN   \n",
       "2  21.0               0.0             NaN                NaN          NaN   \n",
       "3  26.0               0.0             NaN                NaN          NaN   \n",
       "4  20.0               0.0             NaN                NaN          NaN   \n",
       "\n",
       "   BootcampRecommend  ChildrenNumber                 CityPopulation  \\\n",
       "0                NaN             NaN            more than 1 million   \n",
       "1                NaN             NaN              less than 100,000   \n",
       "2                NaN             NaN            more than 1 million   \n",
       "3                NaN             NaN  between 100,000 and 1 million   \n",
       "4                NaN             NaN  between 100,000 and 1 million   \n",
       "\n",
       "   CodeEventConferences  CodeEventDjangoGirls         ...           \\\n",
       "0                   NaN                   NaN         ...            \n",
       "1                   NaN                   NaN         ...            \n",
       "2                   NaN                   NaN         ...            \n",
       "3                   NaN                   NaN         ...            \n",
       "4                   NaN                   NaN         ...            \n",
       "\n",
       "   YouTubeFCC  YouTubeFunFunFunction  YouTubeGoogleDev  YouTubeLearnCode  \\\n",
       "0         NaN                    NaN               NaN               NaN   \n",
       "1         1.0                    NaN               NaN               NaN   \n",
       "2         NaN                    NaN               NaN               1.0   \n",
       "3         1.0                    1.0               NaN               NaN   \n",
       "4         NaN                    NaN               NaN               NaN   \n",
       "\n",
       "   YouTubeLevelUpTuts  YouTubeMIT  YouTubeMozillaHacks YouTubeOther  \\\n",
       "0                 NaN         NaN                  NaN          NaN   \n",
       "1                 NaN         NaN                  NaN          NaN   \n",
       "2                 1.0         NaN                  NaN          NaN   \n",
       "3                 1.0         NaN                  NaN          NaN   \n",
       "4                 NaN         NaN                  NaN          NaN   \n",
       "\n",
       "   YouTubeSimplilearn  YouTubeTheNewBoston  \n",
       "0                 NaN                  NaN  \n",
       "1                 NaN                  NaN  \n",
       "2                 NaN                  NaN  \n",
       "3                 NaN                  NaN  \n",
       "4                 NaN                  NaN  \n",
       "\n",
       "[5 rows x 136 columns]"
      ]
     },
     "execution_count": 2,
     "metadata": {},
     "output_type": "execute_result"
    }
   ],
   "source": [
    "new_coders_data.head()"
   ]
  },
  {
   "cell_type": "code",
   "execution_count": 3,
   "metadata": {},
   "outputs": [
    {
     "data": {
      "text/plain": [
       "['Age',\n",
       " 'AttendedBootcamp',\n",
       " 'BootcampFinish',\n",
       " 'BootcampLoanYesNo',\n",
       " 'BootcampName',\n",
       " 'BootcampRecommend',\n",
       " 'ChildrenNumber',\n",
       " 'CityPopulation',\n",
       " 'CodeEventConferences',\n",
       " 'CodeEventDjangoGirls',\n",
       " 'CodeEventFCC',\n",
       " 'CodeEventGameJam',\n",
       " 'CodeEventGirlDev',\n",
       " 'CodeEventHackathons',\n",
       " 'CodeEventMeetup',\n",
       " 'CodeEventNodeSchool',\n",
       " 'CodeEventNone',\n",
       " 'CodeEventOther',\n",
       " 'CodeEventRailsBridge',\n",
       " 'CodeEventRailsGirls',\n",
       " 'CodeEventStartUpWknd',\n",
       " 'CodeEventWkdBootcamps',\n",
       " 'CodeEventWomenCode',\n",
       " 'CodeEventWorkshops',\n",
       " 'CommuteTime',\n",
       " 'CountryCitizen',\n",
       " 'CountryLive',\n",
       " 'EmploymentField',\n",
       " 'EmploymentFieldOther',\n",
       " 'EmploymentStatus',\n",
       " 'EmploymentStatusOther',\n",
       " 'ExpectedEarning',\n",
       " 'FinanciallySupporting',\n",
       " 'FirstDevJob',\n",
       " 'Gender',\n",
       " 'GenderOther',\n",
       " 'HasChildren',\n",
       " 'HasDebt',\n",
       " 'HasFinancialDependents',\n",
       " 'HasHighSpdInternet',\n",
       " 'HasHomeMortgage',\n",
       " 'HasServedInMilitary',\n",
       " 'HasStudentDebt',\n",
       " 'HomeMortgageOwe',\n",
       " 'HoursLearning',\n",
       " 'ID.x',\n",
       " 'ID.y',\n",
       " 'Income',\n",
       " 'IsEthnicMinority',\n",
       " 'IsReceiveDisabilitiesBenefits',\n",
       " 'IsSoftwareDev',\n",
       " 'IsUnderEmployed',\n",
       " 'JobApplyWhen',\n",
       " 'JobInterestBackEnd',\n",
       " 'JobInterestDataEngr',\n",
       " 'JobInterestDataSci',\n",
       " 'JobInterestDevOps',\n",
       " 'JobInterestFrontEnd',\n",
       " 'JobInterestFullStack',\n",
       " 'JobInterestGameDev',\n",
       " 'JobInterestInfoSec',\n",
       " 'JobInterestMobile',\n",
       " 'JobInterestOther',\n",
       " 'JobInterestProjMngr',\n",
       " 'JobInterestQAEngr',\n",
       " 'JobInterestUX',\n",
       " 'JobPref',\n",
       " 'JobRelocateYesNo',\n",
       " 'JobRoleInterest',\n",
       " 'JobWherePref',\n",
       " 'LanguageAtHome',\n",
       " 'MaritalStatus',\n",
       " 'MoneyForLearning',\n",
       " 'MonthsProgramming',\n",
       " 'NetworkID',\n",
       " 'Part1EndTime',\n",
       " 'Part1StartTime',\n",
       " 'Part2EndTime',\n",
       " 'Part2StartTime',\n",
       " 'PodcastChangeLog',\n",
       " 'PodcastCodeNewbie',\n",
       " 'PodcastCodePen',\n",
       " 'PodcastDevTea',\n",
       " 'PodcastDotNET',\n",
       " 'PodcastGiantRobots',\n",
       " 'PodcastJSAir',\n",
       " 'PodcastJSJabber',\n",
       " 'PodcastNone',\n",
       " 'PodcastOther',\n",
       " 'PodcastProgThrowdown',\n",
       " 'PodcastRubyRogues',\n",
       " 'PodcastSEDaily',\n",
       " 'PodcastSERadio',\n",
       " 'PodcastShopTalk',\n",
       " 'PodcastTalkPython',\n",
       " 'PodcastTheWebAhead',\n",
       " 'ResourceCodecademy',\n",
       " 'ResourceCodeWars',\n",
       " 'ResourceCoursera',\n",
       " 'ResourceCSS',\n",
       " 'ResourceEdX',\n",
       " 'ResourceEgghead',\n",
       " 'ResourceFCC',\n",
       " 'ResourceHackerRank',\n",
       " 'ResourceKA',\n",
       " 'ResourceLynda',\n",
       " 'ResourceMDN',\n",
       " 'ResourceOdinProj',\n",
       " 'ResourceOther',\n",
       " 'ResourcePluralSight',\n",
       " 'ResourceSkillcrush',\n",
       " 'ResourceSO',\n",
       " 'ResourceTreehouse',\n",
       " 'ResourceUdacity',\n",
       " 'ResourceUdemy',\n",
       " 'ResourceW3S',\n",
       " 'SchoolDegree',\n",
       " 'SchoolMajor',\n",
       " 'StudentDebtOwe',\n",
       " 'YouTubeCodeCourse',\n",
       " 'YouTubeCodingTrain',\n",
       " 'YouTubeCodingTut360',\n",
       " 'YouTubeComputerphile',\n",
       " 'YouTubeDerekBanas',\n",
       " 'YouTubeDevTips',\n",
       " 'YouTubeEngineeredTruth',\n",
       " 'YouTubeFCC',\n",
       " 'YouTubeFunFunFunction',\n",
       " 'YouTubeGoogleDev',\n",
       " 'YouTubeLearnCode',\n",
       " 'YouTubeLevelUpTuts',\n",
       " 'YouTubeMIT',\n",
       " 'YouTubeMozillaHacks',\n",
       " 'YouTubeOther',\n",
       " 'YouTubeSimplilearn',\n",
       " 'YouTubeTheNewBoston']"
      ]
     },
     "execution_count": 3,
     "metadata": {},
     "output_type": "execute_result"
    }
   ],
   "source": [
    "list(new_coders_data.columns.values)"
   ]
  },
  {
   "cell_type": "markdown",
   "metadata": {},
   "source": [
    "# Exploring Interests of Participants\n",
    "\n",
    "Here we want to explore if there is actually a significant amount of participants that would be interested in taking a Web/Mobile development course. We will do this by looking at what the participant's job interests are."
   ]
  },
  {
   "cell_type": "code",
   "execution_count": 4,
   "metadata": {
    "scrolled": true
   },
   "outputs": [
    {
     "data": {
      "text/plain": [
       "NaN                                                                                                                                                             61.529574\n",
       "Full-Stack Web Developer                                                                                                                                         4.528198\n",
       "  Front-End Web Developer                                                                                                                                        2.475928\n",
       "  Data Scientist                                                                                                                                                 0.836314\n",
       "Back-End Web Developer                                                                                                                                           0.781293\n",
       "  Mobile Developer                                                                                                                                               0.643741\n",
       "Game Developer                                                                                                                                                   0.627235\n",
       "Information Security                                                                                                                                             0.506190\n",
       "Full-Stack Web Developer,   Front-End Web Developer                                                                                                              0.352132\n",
       "  Front-End Web Developer, Full-Stack Web Developer                                                                                                              0.308116\n",
       "  Product Manager                                                                                                                                                0.302613\n",
       "Data Engineer                                                                                                                                                    0.291609\n",
       "  User Experience Designer                                                                                                                                       0.286107\n",
       "  User Experience Designer,   Front-End Web Developer                                                                                                            0.236589\n",
       "  Front-End Web Developer, Back-End Web Developer, Full-Stack Web Developer                                                                                      0.214580\n",
       "Back-End Web Developer,   Front-End Web Developer, Full-Stack Web Developer                                                                                      0.198074\n",
       "  DevOps / SysAdmin                                                                                                                                              0.198074\n",
       "Back-End Web Developer, Full-Stack Web Developer,   Front-End Web Developer                                                                                      0.198074\n",
       "Full-Stack Web Developer,   Front-End Web Developer, Back-End Web Developer                                                                                      0.170564\n",
       "  Front-End Web Developer, Full-Stack Web Developer, Back-End Web Developer                                                                                      0.165062\n",
       "Full-Stack Web Developer,   Mobile Developer                                                                                                                     0.159560\n",
       "  Front-End Web Developer,   User Experience Designer                                                                                                            0.159560\n",
       "Back-End Web Developer, Full-Stack Web Developer                                                                                                                 0.148556\n",
       "Full-Stack Web Developer, Back-End Web Developer                                                                                                                 0.143054\n",
       "Back-End Web Developer,   Front-End Web Developer                                                                                                                0.110041\n",
       "Full-Stack Web Developer, Back-End Web Developer,   Front-End Web Developer                                                                                      0.104539\n",
       "Data Engineer,   Data Scientist                                                                                                                                  0.104539\n",
       "  Front-End Web Developer,   Mobile Developer                                                                                                                    0.099037\n",
       "Full-Stack Web Developer,   Data Scientist                                                                                                                       0.093535\n",
       "  Mobile Developer, Game Developer                                                                                                                               0.088033\n",
       "                                                                                                                                                                  ...    \n",
       "Full-Stack Web Developer, Back-End Web Developer, Game Developer,   Front-End Web Developer, Information Security                                                0.005502\n",
       "Full-Stack Web Developer,   Quality Assurance Engineer, Back-End Web Developer,   DevOps / SysAdmin,   Front-End Web Developer                                   0.005502\n",
       "  Product Manager,   Mobile Developer, Full-Stack Web Developer,   Quality Assurance Engineer,   Front-End Web Developer,   User Experience Designer             0.005502\n",
       "  Mobile Developer, Game Developer, Back-End Web Developer,   DevOps / SysAdmin,   Front-End Web Developer                                                       0.005502\n",
       "Full-Stack Web Developer, Back-End Web Developer,   Front-End Web Developer, Information Security,   Mobile Developer                                            0.005502\n",
       "  User Experience Designer,   Quality Assurance Engineer,   Product Manager                                                                                      0.005502\n",
       "Back-End Web Developer,   Front-End Web Developer, Game Developer, Information Security                                                                          0.005502\n",
       "  Product Manager, Back-End Web Developer,   Data Scientist, Full-Stack Web Developer, Game Developer,   User Experience Designer, Information Security          0.005502\n",
       "Back-End Web Developer,   Mobile Developer, Full-Stack Web Developer,   Front-End Web Developer, Data Engineer                                                   0.005502\n",
       "  User Experience Designer,   Product Manager,   Front-End Web Developer,   Data Scientist                                                                       0.005502\n",
       "Data Engineer, Back-End Web Developer,   Quality Assurance Engineer, Information Security,   Product Manager                                                     0.005502\n",
       "Information Security, Data Engineer, Back-End Web Developer, Full-Stack Web Developer,   Product Manager,   Data Scientist                                       0.005502\n",
       "Data Engineer, Full-Stack Web Developer, Back-End Web Developer,   Front-End Web Developer                                                                       0.005502\n",
       "Full-Stack Web Developer,   Front-End Web Developer,   User Experience Designer, Game Developer,   Mobile Developer                                              0.005502\n",
       "Data Engineer, Game Developer,   Data Scientist,   Quality Assurance Engineer                                                                                    0.005502\n",
       "Data Engineer, Full-Stack Web Developer,   Front-End Web Developer,   Mobile Developer,   Product Manager                                                        0.005502\n",
       "Game Developer,   DevOps / SysAdmin, Full-Stack Web Developer                                                                                                    0.005502\n",
       "Back-End Web Developer, Full-Stack Web Developer,   Front-End Web Developer,   User Experience Designer,   DevOps / SysAdmin                                     0.005502\n",
       "  Front-End Web Developer,   DevOps / SysAdmin,   Product Manager                                                                                                0.005502\n",
       "  Mobile Developer, Full-Stack Web Developer,   DevOps / SysAdmin                                                                                                0.005502\n",
       "Data Engineer, Full-Stack Web Developer,   Mobile Developer,   User Experience Designer, Back-End Web Developer,   Data Scientist,   Front-End Web Developer     0.005502\n",
       "  Product Manager,   Data Scientist,   Mobile Developer,   User Experience Designer                                                                              0.005502\n",
       "Back-End Web Developer, Game Developer,   Mobile Developer,   Front-End Web Developer, Full-Stack Web Developer                                                  0.005502\n",
       "Information Security,   Data Scientist,   Mobile Developer, Data Engineer                                                                                        0.005502\n",
       "Game Developer, Information Security, Data Engineer,   Mobile Developer,   User Experience Designer                                                              0.005502\n",
       "  Mobile Developer, Back-End Web Developer, Full-Stack Web Developer,   Data Scientist                                                                           0.005502\n",
       "Full-Stack Web Developer,   Data Scientist,   Front-End Web Developer, Data Engineer, Back-End Web Developer, Game Developer,   Quality Assurance Engineer       0.005502\n",
       "  Data Scientist, Information Security,   Quality Assurance Engineer, Data Engineer                                                                              0.005502\n",
       "Information Security,   Mobile Developer, Game Developer, software engineer                                                                                      0.005502\n",
       "Game Developer, Full-Stack Web Developer,   Quality Assurance Engineer,   DevOps / SysAdmin, Data Engineer                                                       0.005502\n",
       "Name: JobRoleInterest, Length: 3214, dtype: float64"
      ]
     },
     "execution_count": 4,
     "metadata": {},
     "output_type": "execute_result"
    }
   ],
   "source": [
    "# Job interest percentage \n",
    "new_coders_data[\"JobRoleInterest\"].value_counts(normalize=True, dropna=False)*100"
   ]
  },
  {
   "cell_type": "code",
   "execution_count": 5,
   "metadata": {},
   "outputs": [
    {
     "data": {
      "text/plain": [
       "Full-Stack Web Developer                                                                                                                                                            11.770595\n",
       "  Front-End Web Developer                                                                                                                                                            6.435927\n",
       "  Data Scientist                                                                                                                                                                     2.173913\n",
       "Back-End Web Developer                                                                                                                                                               2.030892\n",
       "  Mobile Developer                                                                                                                                                                   1.673341\n",
       "Game Developer                                                                                                                                                                       1.630435\n",
       "Information Security                                                                                                                                                                 1.315789\n",
       "Full-Stack Web Developer,   Front-End Web Developer                                                                                                                                  0.915332\n",
       "  Front-End Web Developer, Full-Stack Web Developer                                                                                                                                  0.800915\n",
       "  Product Manager                                                                                                                                                                    0.786613\n",
       "Data Engineer                                                                                                                                                                        0.758009\n",
       "  User Experience Designer                                                                                                                                                           0.743707\n",
       "  User Experience Designer,   Front-End Web Developer                                                                                                                                0.614989\n",
       "  Front-End Web Developer, Back-End Web Developer, Full-Stack Web Developer                                                                                                          0.557780\n",
       "Back-End Web Developer,   Front-End Web Developer, Full-Stack Web Developer                                                                                                          0.514874\n",
       "  DevOps / SysAdmin                                                                                                                                                                  0.514874\n",
       "Back-End Web Developer, Full-Stack Web Developer,   Front-End Web Developer                                                                                                          0.514874\n",
       "Full-Stack Web Developer,   Front-End Web Developer, Back-End Web Developer                                                                                                          0.443364\n",
       "  Front-End Web Developer, Full-Stack Web Developer, Back-End Web Developer                                                                                                          0.429062\n",
       "  Front-End Web Developer,   User Experience Designer                                                                                                                                0.414760\n",
       "Full-Stack Web Developer,   Mobile Developer                                                                                                                                         0.414760\n",
       "Back-End Web Developer, Full-Stack Web Developer                                                                                                                                     0.386156\n",
       "Full-Stack Web Developer, Back-End Web Developer                                                                                                                                     0.371854\n",
       "Back-End Web Developer,   Front-End Web Developer                                                                                                                                    0.286041\n",
       "Data Engineer,   Data Scientist                                                                                                                                                      0.271739\n",
       "Full-Stack Web Developer, Back-End Web Developer,   Front-End Web Developer                                                                                                          0.271739\n",
       "  Front-End Web Developer,   Mobile Developer                                                                                                                                        0.257437\n",
       "Full-Stack Web Developer,   Data Scientist                                                                                                                                           0.243135\n",
       "  Data Scientist, Data Engineer                                                                                                                                                      0.228833\n",
       "  Mobile Developer, Game Developer                                                                                                                                                   0.228833\n",
       "                                                                                                                                                                                      ...    \n",
       "  Data Scientist, Data Engineer, Full-Stack Web Developer, Back-End Web Developer, Information Security                                                                              0.014302\n",
       "  Front-End Web Developer,   Product Manager, Information Security,   DevOps / SysAdmin, Data Engineer,   Data Scientist, Full-Stack Web Developer,   Quality Assurance Engineer     0.014302\n",
       "Game Developer,   Product Manager, Full-Stack Web Developer,   Data Scientist,   Mobile Developer, i dunno!!!!                                                                       0.014302\n",
       "Full-Stack Web Developer,   Front-End Web Developer, Game Developer, Back-End Web Developer, Operating Systems, Compilers, etc...                                                    0.014302\n",
       "Full-Stack Web Developer,   Data Scientist,   Mobile Developer, Game Developer, Information Security, Back-End Web Developer,   Front-End Web Developer, Data Engineer               0.014302\n",
       "Back-End Web Developer,   Front-End Web Developer,   Data Scientist,   User Experience Designer,   Quality Assurance Engineer, Full-Stack Web Developer                              0.014302\n",
       "  User Experience Designer, Game Developer, Full-Stack Web Developer, Back-End Web Developer,   Front-End Web Developer                                                              0.014302\n",
       "  Mobile Developer, Back-End Web Developer, Full-Stack Web Developer,   Data Scientist                                                                                               0.014302\n",
       "Game Developer, Information Security, Data Engineer,   Mobile Developer,   User Experience Designer                                                                                  0.014302\n",
       "Information Security,   Data Scientist,   Mobile Developer, Data Engineer                                                                                                            0.014302\n",
       "Data Engineer, Full-Stack Web Developer, Back-End Web Developer,   Front-End Web Developer                                                                                           0.014302\n",
       "  Front-End Web Developer, Back-End Web Developer, Information Security, Data Engineer,   Data Scientist, Full-Stack Web Developer                                                   0.014302\n",
       "  Front-End Web Developer, Full-Stack Web Developer,   Data Scientist,   User Experience Designer,   Quality Assurance Engineer, Game Developer                                      0.014302\n",
       "Back-End Web Developer,   Front-End Web Developer, Full-Stack Web Developer,   DevOps / SysAdmin, Game Developer                                                                     0.014302\n",
       "Data Engineer, Full-Stack Web Developer,   Front-End Web Developer,   Mobile Developer                                                                                               0.014302\n",
       "  Product Manager,   User Experience Designer,   Quality Assurance Engineer, Full-Stack Web Developer,   Front-End Web Developer                                                     0.014302\n",
       "Game Developer, Full-Stack Web Developer, Back-End Web Developer,   Front-End Web Developer,   Mobile Developer                                                                      0.014302\n",
       "Technology Management                                                                                                                                                                0.014302\n",
       "Information Security, Data Engineer, Back-End Web Developer, Full-Stack Web Developer,   Product Manager,   Data Scientist                                                           0.014302\n",
       "Full-Stack Web Developer,   Front-End Web Developer,   User Experience Designer, Game Developer,   Mobile Developer                                                                  0.014302\n",
       "Back-End Web Developer, Game Developer,   Mobile Developer,   Front-End Web Developer, Full-Stack Web Developer                                                                      0.014302\n",
       "Data Engineer, Game Developer,   Data Scientist,   Quality Assurance Engineer                                                                                                        0.014302\n",
       "Data Engineer, Full-Stack Web Developer,   Front-End Web Developer,   Mobile Developer,   Product Manager                                                                            0.014302\n",
       "Back-End Web Developer, Full-Stack Web Developer,   Quality Assurance Engineer,   Product Manager                                                                                    0.014302\n",
       "Back-End Web Developer, Full-Stack Web Developer,   Front-End Web Developer,   User Experience Designer,   DevOps / SysAdmin                                                         0.014302\n",
       "  Front-End Web Developer,   DevOps / SysAdmin,   Product Manager                                                                                                                    0.014302\n",
       "Data Engineer, Back-End Web Developer,   Quality Assurance Engineer, Information Security,   Product Manager                                                                         0.014302\n",
       "  Mobile Developer, Full-Stack Web Developer,   DevOps / SysAdmin                                                                                                                    0.014302\n",
       "  Product Manager,   Data Scientist,   Mobile Developer,   User Experience Designer                                                                                                  0.014302\n",
       "  Data Scientist, Back-End Web Developer,   Mobile Developer, Information Security,   Front-End Web Developer, Data Engineer, Full-Stack Web Developer                               0.014302\n",
       "Name: JobRoleInterest, Length: 3213, dtype: float64"
      ]
     },
     "execution_count": 5,
     "metadata": {},
     "output_type": "execute_result"
    }
   ],
   "source": [
    "# Drop all the rows where participants didn't answer what role they are interested in\n",
    "new_coders = new_coders_data[new_coders_data[\"JobRoleInterest\"].notnull()].copy()\n",
    "\n",
    "# Check that all the null values are removed\n",
    "new_coders[\"JobRoleInterest\"].value_counts(normalize=True, dropna=False)*100"
   ]
  },
  {
   "cell_type": "markdown",
   "metadata": {},
   "source": [
    "Note that most of the participants have multiple jobs they are interested in. Since we are only interested in participants that are interested in Web development or Mobile developement we will isolate these participants and see what percentage of the population they consist of."
   ]
  },
  {
   "cell_type": "code",
   "execution_count": 6,
   "metadata": {},
   "outputs": [
    {
     "data": {
      "image/png": "[encoded data removed]",
      "text/plain": [
       "<Figure size 432x288 with 1 Axes>"
      ]
     },
     "metadata": {},
     "output_type": "display_data"
    }
   ],
   "source": [
    "# Separate for web or mobile develeper only \n",
    "web_mob_dev = new_coders[\"JobRoleInterest\"].str.contains(\"Web Developer|Mobile Developer\")\n",
    "\n",
    "# Evaluate their percentage\n",
    "web_mob_dev_prc = web_mob_dev.value_counts(normalize=True)*100\n",
    "\n",
    "# Plot the percentage of developers that are interested in Web/Mobile developers\n",
    "web_mob_dev_prc.plot(kind=\"pie\", labels=(\"Yes\", \"No\"), colormap='Pastel2', autopct=\"%1.1f%%\", title=\"Interest in Web/Mobile Development\")\n",
    "plt.ylabel(\"\");"
   ]
  },
  {
   "cell_type": "markdown",
   "metadata": {},
   "source": [
    "We can see that we are going to be able to extract some useful information from this survey data since over 86% of the participants who took the survey are interested in Web/Mobile Development."
   ]
  },
  {
   "cell_type": "markdown",
   "metadata": {},
   "source": [
    "# Exploring Participants Location\n",
    "Now we would like to find out where the participants are living, this will point us in the right direction of where we should target our advertisements."
   ]
  },
  {
   "cell_type": "code",
   "execution_count": 7,
   "metadata": {},
   "outputs": [
    {
     "data": {
      "text/plain": [
       "United States of America    3125\n",
       "India                        528\n",
       "United Kingdom               315\n",
       "Canada                       260\n",
       "Poland                       131\n",
       "Brazil                       129\n",
       "Germany                      125\n",
       "Australia                    112\n",
       "Russia                       102\n",
       "Ukraine                       89\n",
       "Name: CountryLive, dtype: int64"
      ]
     },
     "execution_count": 7,
     "metadata": {},
     "output_type": "execute_result"
    }
   ],
   "source": [
    "# Check out where most of the participants live\n",
    "new_coders[\"CountryLive\"].value_counts().head(10)"
   ]
  },
  {
   "cell_type": "code",
   "execution_count": 8,
   "metadata": {
    "scrolled": true
   },
   "outputs": [
    {
     "data": {
      "image/png": "[encoded data removed]",
      "text/plain": [
       "<Figure size 432x288 with 1 Axes>"
      ]
     },
     "metadata": {
      "needs_background": "light"
     },
     "output_type": "display_data"
    }
   ],
   "source": [
    "country_live_count = new_coders[\"CountryLive\"].value_counts()\n",
    "\n",
    "# Plot the top 5 countries where the participants are located\n",
    "country_live_count[:5].plot(kind=\"barh\", colormap=\"Paired\")\n",
    "plt.title(\"Number of Developers per Country\")\n",
    "plt.box(False) # Remove boarder\n",
    "plt.tick_params(top=False, bottom=False, left=False, right=False) # Remove graph ticks"
   ]
  },
  {
   "cell_type": "markdown",
   "metadata": {},
   "source": [
    "Based on these preliminary results we should focus our advertising efforts in the USA, Indian and UK markets. But let's continue our analyzing to see how much of these participants are willing to spend on a learning service. "
   ]
  },
  {
   "cell_type": "markdown",
   "metadata": {},
   "source": [
    "# Exploring Participants Spending\n",
    "\n",
    "We will find out how much the participants are willing to spend on education per month and then check if the countries that we should focus on are still the same."
   ]
  },
  {
   "cell_type": "code",
   "execution_count": 9,
   "metadata": {},
   "outputs": [
    {
     "data": {
      "text/plain": [
       "0.0    235\n",
       "1.0    767\n",
       "2.0    669\n",
       "3.0    637\n",
       "4.0    367\n",
       "Name: MonthsProgramming, dtype: int64"
      ]
     },
     "execution_count": 9,
     "metadata": {},
     "output_type": "execute_result"
    }
   ],
   "source": [
    "# Check how many months the participants have been programing for\n",
    "new_coders[\"MonthsProgramming\"].value_counts(dropna=False).sort_index().head()"
   ]
  },
  {
   "cell_type": "markdown",
   "metadata": {},
   "source": [
    "We notice that we have some 0.0 values since we want to ultimately calculate a per month price we will clean this up and replace the null values with 1."
   ]
  },
  {
   "cell_type": "code",
   "execution_count": 10,
   "metadata": {},
   "outputs": [
    {
     "data": {
      "text/plain": [
       "1.0    1002\n",
       "2.0     669\n",
       "3.0     637\n",
       "4.0     367\n",
       "5.0     279\n",
       "Name: MonthsProgramming, dtype: int64"
      ]
     },
     "execution_count": 10,
     "metadata": {},
     "output_type": "execute_result"
    }
   ],
   "source": [
    "# Replace the 0.0 values to 1.0\n",
    "new_coders[\"MonthsProgramming\"].replace(0.0, 1.0, inplace=True)\n",
    "\n",
    "# Check the 0.0 values have been replaced\n",
    "new_coders[\"MonthsProgramming\"].value_counts().sort_index().head()"
   ]
  },
  {
   "cell_type": "code",
   "execution_count": 11,
   "metadata": {},
   "outputs": [
    {
     "data": {
      "text/plain": [
       "0"
      ]
     },
     "execution_count": 11,
     "metadata": {},
     "output_type": "execute_result"
    }
   ],
   "source": [
    "# Drop NaN values for both MonthsProgramming\n",
    "new_coders = new_coders[new_coders[\"MonthsProgramming\"].notnull()]\n",
    "\n",
    "# Check there are no NaN values \n",
    "new_coders[\"MonthsProgramming\"].value_counts(dropna=False).isnull().sum()"
   ]
  },
  {
   "cell_type": "code",
   "execution_count": 12,
   "metadata": {},
   "outputs": [
    {
     "data": {
      "text/plain": [
       "0"
      ]
     },
     "execution_count": 12,
     "metadata": {},
     "output_type": "execute_result"
    }
   ],
   "source": [
    "# Drop NaN values for CountryLive\n",
    "new_coders = new_coders[new_coders[\"CountryLive\"].notnull()]\n",
    "\n",
    "# Check there are no NaN values \n",
    "new_coders[\"CountryLive\"].value_counts(dropna=False).isnull().sum()"
   ]
  },
  {
   "cell_type": "code",
   "execution_count": 13,
   "metadata": {
    "scrolled": true
   },
   "outputs": [
    {
     "data": {
      "text/plain": [
       "CountryLive\n",
       "United States of America    227.997996\n",
       "India                       135.100982\n",
       "Canada                      113.510961\n",
       "Poland                       75.678935\n",
       "United Kingdom               45.534443\n",
       "Name: MonthlySpending, dtype: float64"
      ]
     },
     "execution_count": 13,
     "metadata": {},
     "output_type": "execute_result"
    }
   ],
   "source": [
    "# Create a new column that describes the amount of money a student is willing to spend per month\n",
    "new_coders[\"MonthlySpending\"] = new_coders[\"MoneyForLearning\"] / new_coders[\"MonthsProgramming\"]\n",
    "\n",
    "# Group the dataset by country \n",
    "grouped_country = new_coders.groupby(\"CountryLive\")\n",
    "\n",
    "top_5_pop = [\"United States of America\", \"India\", \"United Kingdom\", \"Canada\", \"Poland\"]\n",
    "\n",
    "# Caculate mean monthly money willing to by spend by the top 5 countries with the highest number of developers\n",
    "mean_money_by_country = grouped_country[\"MonthlySpending\"].mean()[top_5_pop].sort_values(ascending=False)\n",
    "mean_money_by_country"
   ]
  },
  {
   "cell_type": "markdown",
   "metadata": {},
   "source": [
    "The United Kingdom seems to have a surprisingly low monthly conversely Canada's monthly spending seems a bit high, this could be because we do not have enough data points to get a true average or there are some outliers in the dataset. Let check for outliers and if there are any, remove them."
   ]
  },
  {
   "cell_type": "code",
   "execution_count": 14,
   "metadata": {},
   "outputs": [
    {
     "data": {
      "image/png": "[encoded data removed]",
      "text/plain": [
       "<Figure size 720x360 with 1 Axes>"
      ]
     },
     "metadata": {},
     "output_type": "display_data"
    }
   ],
   "source": [
    "top_5_countries = new_coders[new_coders[\"CountryLive\"].str.contains(\"United States of America|India|Canada|Poland|United Kingdom\")]\n",
    "\n",
    "# Plot a box plot to check for outliers\n",
    "sns.set_style(\"ticks\")\n",
    "fig, ax = plt.subplots()\n",
    "fig.set_size_inches(10, 5) # Change the figure size\n",
    "sns.boxplot(data=top_5_countries, y=\"MonthlySpending\", ax=ax, x=\"CountryLive\")\n",
    "ax.set_title(\"Monthly Spending by Country (Box Plot 1)\")\n",
    "sns.despine()"
   ]
  },
  {
   "cell_type": "markdown",
   "metadata": {},
   "source": [
    "From the plot, we can see that there are some outliers in most countries. We will start to remove some of the outliers by setting a cap on the monthly spending to anything over 10K dollars."
   ]
  },
  {
   "cell_type": "code",
   "execution_count": 15,
   "metadata": {},
   "outputs": [
    {
     "data": {
      "image/png": "[encoded data removed]",
      "text/plain": [
       "<Figure size 720x360 with 1 Axes>"
      ]
     },
     "metadata": {},
     "output_type": "display_data"
    }
   ],
   "source": [
    "# Remove any value of monthly spending over 10,000\n",
    "new_coders = new_coders[new_coders[\"MonthlySpending\"]< 10000]\n",
    "\n",
    "# Plot a sencond box plot to check for any other outliers\n",
    "sns.set_style('ticks')\n",
    "fig, ax = plt.subplots()\n",
    "fig.set_size_inches(10, 5)\n",
    "sns.boxplot(data=top_5_countries, y=\"MonthlySpending\", ax=ax, x=\"CountryLive\")\n",
    "ax.set_title(\"Monthly Spending by Country (Box Plot 2)\")\n",
    "sns.despine()"
   ]
  },
  {
   "cell_type": "markdown",
   "metadata": {},
   "source": [
    "We still have some significant outliers left specially in countries like India, Canada, and Poland. To eliminate these we will set a cap on monthly spending for those countries to 3K."
   ]
  },
  {
   "cell_type": "code",
   "execution_count": 16,
   "metadata": {},
   "outputs": [
    {
     "data": {
      "image/png": "[encoded data removed]",
      "text/plain": [
       "<Figure size 720x360 with 1 Axes>"
      ]
     },
     "metadata": {},
     "output_type": "display_data"
    }
   ],
   "source": [
    "# Isolate the 3 countries remove the outliers and rejoin with the other 2 countries of the top 5\n",
    "countries_3 = new_coders[new_coders[\"CountryLive\"].str.contains(\"India|Canada|Poland\")]\n",
    "countries_3_cap = countries_3[countries_3[\"MonthlySpending\"] < 3000]\n",
    "uk_usa = new_coders[new_coders[\"CountryLive\"].str.contains(\"United States of America|United Kingdom\")]\n",
    "final_5 = pd.concat([uk_usa, countries_3_cap])\n",
    "\n",
    "# Plot a Third box plot to check that most ourliers are gone\n",
    "sns.set_style('ticks')\n",
    "fig, ax = plt.subplots()\n",
    "fig.set_size_inches(10, 5)\n",
    "sns.boxplot(data=final_5, y=\"MonthlySpending\", ax=ax, x=\"CountryLive\")\n",
    "ax.set_title(\"Monthly Spending by Country (Box Plot 3)\")\n",
    "sns.despine()"
   ]
  },
  {
   "cell_type": "code",
   "execution_count": 17,
   "metadata": {},
   "outputs": [
    {
     "data": {
      "text/plain": [
       "CountryLive\n",
       "United States of America    155.459187\n",
       "Canada                       93.065400\n",
       "India                        65.758763\n",
       "Poland                       51.510992\n",
       "United Kingdom               45.534443\n",
       "Name: MonthlySpending, dtype: float64"
      ]
     },
     "execution_count": 17,
     "metadata": {},
     "output_type": "execute_result"
    }
   ],
   "source": [
    "# Group the dataset by country \n",
    "final_5_grouped = final_5.groupby(\"CountryLive\")\n",
    "\n",
    "# Check top 5 countries to advertice in mean monthly spending \n",
    "final_5_monthly_mean = final_5_grouped[\"MonthlySpending\"].mean().sort_values(ascending=False)\n",
    "final_5_monthly_mean"
   ]
  },
  {
   "cell_type": "markdown",
   "metadata": {},
   "source": [
    "We notice that after moving some outliers the monthly spending for India has significantly decreased and also decrease a bit for both the USA and Canada. Using this cleaned data we can start to make more accurate predictions as to where we should spend money in advertising. It is clear that we should spend our marketing efforts in the top 3 markets them being the USA, India, and Canada."
   ]
  },
  {
   "cell_type": "markdown",
   "metadata": {},
   "source": [
    "# Advertising Focus\n",
    "\n",
    "Since we have a limited amount of resources we would like to see how we split them to get the most out of our advertisements. In this section, we will figure out what percentage of our resources should be deligated to the top 3 markets."
   ]
  },
  {
   "cell_type": "code",
   "execution_count": 18,
   "metadata": {
    "scrolled": true
   },
   "outputs": [
    {
     "data": {
      "image/png": "[encoded data removed]",
      "text/plain": [
       "<Figure size 432x288 with 1 Axes>"
      ]
     },
     "metadata": {},
     "output_type": "display_data"
    }
   ],
   "source": [
    "top_3_pop = ['United States of America', 'India', 'Canada']\n",
    "\n",
    "market_values = {}\n",
    "# Calculate the market values (mean montly spending)*(num_coders)\n",
    "for country in top_3_pop:\n",
    "    num_coders = len(final_5[final_5[\"CountryLive\"]==country])\n",
    "    market_values[country] = final_5_monthly_mean[country] * num_coders\n",
    "    \n",
    "# Plot the market values for each country\n",
    "plt.bar((*zip(*market_values.items())));"
   ]
  },
  {
   "cell_type": "markdown",
   "metadata": {},
   "source": [
    "From the market values, we can see that our main focus should on marketing in the USA and then a bit for in India and in Canada. We would like to know exactly how we should split our budget for marketing the Web/Mobile courses."
   ]
  },
  {
   "cell_type": "code",
   "execution_count": 19,
   "metadata": {},
   "outputs": [
    {
     "data": {
      "text/plain": [
       "{'United States of America': 89.7, 'India': 5.9, 'Canada': 4.4}"
      ]
     },
     "execution_count": 19,
     "metadata": {},
     "output_type": "execute_result"
    }
   ],
   "source": [
    "# Calculate the market share of each country\n",
    "total_market = sum(market_values.values())\n",
    "market_share = {}\n",
    "for country in market_values:\n",
    "    market_share[country] = round((market_values[country] / total_market) * 100, 1)\n",
    "    \n",
    "market_share"
   ]
  },
  {
   "cell_type": "markdown",
   "metadata": {},
   "source": [
    "From this market share, we know exactly how we should distribute the marketing resources giving the USA the most at 89.7% of the advertising budget, while also giving India 5.9% and Canada 4.4% of the advertising budget."
   ]
  },
  {
   "cell_type": "markdown",
   "metadata": {},
   "source": [
    "# Conclusion \n",
    "\n",
    "After taking a closer look at the survey conducted by freeCodeCamp we discovered the following interesting findings:\n",
    "\n",
    "- 86.2% of the participants were interested in some sort of Web and/or Mobile development.\n",
    "- Most of the participants live in the USA while some live in the UK, Canada, and India.\n",
    "- On average participants from the USA are willing to pay the most for a programming course while India and Canada are willing to pay around 60% of what their USA participants are willing to pay.\n",
    "- The top 3 markets to advertise are the USA, India, and Canada.\n",
    "\n",
    "Note that these findings are not concrete more data from other sources needs to be analyzed to get a different perspective on whether or not these are really the top 3 markets to advertise Web/Mobile development courses."
   ]
  }
 ],
 "metadata": {
  "kernelspec": {
   "display_name": "Python 3",
   "language": "python",
   "name": "python3"
  },
  "language_info": {
   "codemirror_mode": {
    "name": "ipython",
    "version": 3
   },
   "file_extension": ".py",
   "mimetype": "text/x-python",
   "name": "python",
   "nbconvert_exporter": "python",
   "pygments_lexer": "ipython3",
   "version": "3.7.1"
  }
 },
 "nbformat": 4,
 "nbformat_minor": 2
}
